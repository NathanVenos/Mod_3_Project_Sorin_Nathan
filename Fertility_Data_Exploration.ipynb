{
 "cells": [
  {
   "cell_type": "code",
   "execution_count": 1,
   "metadata": {},
   "outputs": [],
   "source": [
    "# 15 year mean of countries in East Asia & Pacific match Europe & Central Asia & Americas"
   ]
  },
  {
   "cell_type": "code",
   "execution_count": 29,
   "metadata": {},
   "outputs": [],
   "source": [
    "import pandas as pd\n",
    "import seaborn as sns\n",
    "import matplotlib.pyplot as plt\n",
    "%matplotlib inline"
   ]
  },
  {
   "cell_type": "code",
   "execution_count": 3,
   "metadata": {
    "scrolled": true
   },
   "outputs": [
    {
     "data": {
      "text/html": [
       "<div>\n",
       "<style scoped>\n",
       "    .dataframe tbody tr th:only-of-type {\n",
       "        vertical-align: middle;\n",
       "    }\n",
       "\n",
       "    .dataframe tbody tr th {\n",
       "        vertical-align: top;\n",
       "    }\n",
       "\n",
       "    .dataframe thead th {\n",
       "        text-align: right;\n",
       "    }\n",
       "</style>\n",
       "<table border=\"1\" class=\"dataframe\">\n",
       "  <thead>\n",
       "    <tr style=\"text-align: right;\">\n",
       "      <th></th>\n",
       "      <th>Country Name</th>\n",
       "      <th>Country Code</th>\n",
       "      <th>Indicator Name</th>\n",
       "      <th>Indicator Code</th>\n",
       "      <th>1960</th>\n",
       "      <th>1961</th>\n",
       "      <th>1962</th>\n",
       "      <th>1963</th>\n",
       "      <th>1964</th>\n",
       "      <th>1965</th>\n",
       "      <th>...</th>\n",
       "      <th>2010</th>\n",
       "      <th>2011</th>\n",
       "      <th>2012</th>\n",
       "      <th>2013</th>\n",
       "      <th>2014</th>\n",
       "      <th>2015</th>\n",
       "      <th>2016</th>\n",
       "      <th>2017</th>\n",
       "      <th>2018</th>\n",
       "      <th>Unnamed: 63</th>\n",
       "    </tr>\n",
       "  </thead>\n",
       "  <tbody>\n",
       "    <tr>\n",
       "      <td>0</td>\n",
       "      <td>Aruba</td>\n",
       "      <td>ABW</td>\n",
       "      <td>Fertility rate, total (births per woman)</td>\n",
       "      <td>SP.DYN.TFRT.IN</td>\n",
       "      <td>4.820</td>\n",
       "      <td>4.655</td>\n",
       "      <td>4.471</td>\n",
       "      <td>4.271</td>\n",
       "      <td>4.059</td>\n",
       "      <td>3.842</td>\n",
       "      <td>...</td>\n",
       "      <td>1.768</td>\n",
       "      <td>1.779</td>\n",
       "      <td>1.795</td>\n",
       "      <td>1.813</td>\n",
       "      <td>1.834</td>\n",
       "      <td>1.854</td>\n",
       "      <td>1.872</td>\n",
       "      <td>1.886</td>\n",
       "      <td>NaN</td>\n",
       "      <td>NaN</td>\n",
       "    </tr>\n",
       "    <tr>\n",
       "      <td>1</td>\n",
       "      <td>Afghanistan</td>\n",
       "      <td>AFG</td>\n",
       "      <td>Fertility rate, total (births per woman)</td>\n",
       "      <td>SP.DYN.TFRT.IN</td>\n",
       "      <td>7.450</td>\n",
       "      <td>7.450</td>\n",
       "      <td>7.450</td>\n",
       "      <td>7.450</td>\n",
       "      <td>7.450</td>\n",
       "      <td>7.450</td>\n",
       "      <td>...</td>\n",
       "      <td>5.977</td>\n",
       "      <td>5.770</td>\n",
       "      <td>5.562</td>\n",
       "      <td>5.359</td>\n",
       "      <td>5.163</td>\n",
       "      <td>4.976</td>\n",
       "      <td>4.800</td>\n",
       "      <td>4.633</td>\n",
       "      <td>NaN</td>\n",
       "      <td>NaN</td>\n",
       "    </tr>\n",
       "    <tr>\n",
       "      <td>2</td>\n",
       "      <td>Angola</td>\n",
       "      <td>AGO</td>\n",
       "      <td>Fertility rate, total (births per woman)</td>\n",
       "      <td>SP.DYN.TFRT.IN</td>\n",
       "      <td>6.708</td>\n",
       "      <td>6.790</td>\n",
       "      <td>6.872</td>\n",
       "      <td>6.954</td>\n",
       "      <td>7.036</td>\n",
       "      <td>7.116</td>\n",
       "      <td>...</td>\n",
       "      <td>6.194</td>\n",
       "      <td>6.120</td>\n",
       "      <td>6.039</td>\n",
       "      <td>5.953</td>\n",
       "      <td>5.864</td>\n",
       "      <td>5.774</td>\n",
       "      <td>5.686</td>\n",
       "      <td>5.600</td>\n",
       "      <td>NaN</td>\n",
       "      <td>NaN</td>\n",
       "    </tr>\n",
       "    <tr>\n",
       "      <td>3</td>\n",
       "      <td>Albania</td>\n",
       "      <td>ALB</td>\n",
       "      <td>Fertility rate, total (births per woman)</td>\n",
       "      <td>SP.DYN.TFRT.IN</td>\n",
       "      <td>6.489</td>\n",
       "      <td>6.401</td>\n",
       "      <td>6.282</td>\n",
       "      <td>6.133</td>\n",
       "      <td>5.960</td>\n",
       "      <td>5.773</td>\n",
       "      <td>...</td>\n",
       "      <td>1.660</td>\n",
       "      <td>1.673</td>\n",
       "      <td>1.684</td>\n",
       "      <td>1.690</td>\n",
       "      <td>1.688</td>\n",
       "      <td>1.677</td>\n",
       "      <td>1.659</td>\n",
       "      <td>1.638</td>\n",
       "      <td>NaN</td>\n",
       "      <td>NaN</td>\n",
       "    </tr>\n",
       "    <tr>\n",
       "      <td>4</td>\n",
       "      <td>Andorra</td>\n",
       "      <td>AND</td>\n",
       "      <td>Fertility rate, total (births per woman)</td>\n",
       "      <td>SP.DYN.TFRT.IN</td>\n",
       "      <td>NaN</td>\n",
       "      <td>NaN</td>\n",
       "      <td>NaN</td>\n",
       "      <td>NaN</td>\n",
       "      <td>NaN</td>\n",
       "      <td>NaN</td>\n",
       "      <td>...</td>\n",
       "      <td>1.270</td>\n",
       "      <td>NaN</td>\n",
       "      <td>NaN</td>\n",
       "      <td>NaN</td>\n",
       "      <td>NaN</td>\n",
       "      <td>NaN</td>\n",
       "      <td>NaN</td>\n",
       "      <td>NaN</td>\n",
       "      <td>NaN</td>\n",
       "      <td>NaN</td>\n",
       "    </tr>\n",
       "  </tbody>\n",
       "</table>\n",
       "<p>5 rows × 64 columns</p>\n",
       "</div>"
      ],
      "text/plain": [
       "  Country Name Country Code                            Indicator Name  \\\n",
       "0        Aruba          ABW  Fertility rate, total (births per woman)   \n",
       "1  Afghanistan          AFG  Fertility rate, total (births per woman)   \n",
       "2       Angola          AGO  Fertility rate, total (births per woman)   \n",
       "3      Albania          ALB  Fertility rate, total (births per woman)   \n",
       "4      Andorra          AND  Fertility rate, total (births per woman)   \n",
       "\n",
       "   Indicator Code   1960   1961   1962   1963   1964   1965  ...   2010  \\\n",
       "0  SP.DYN.TFRT.IN  4.820  4.655  4.471  4.271  4.059  3.842  ...  1.768   \n",
       "1  SP.DYN.TFRT.IN  7.450  7.450  7.450  7.450  7.450  7.450  ...  5.977   \n",
       "2  SP.DYN.TFRT.IN  6.708  6.790  6.872  6.954  7.036  7.116  ...  6.194   \n",
       "3  SP.DYN.TFRT.IN  6.489  6.401  6.282  6.133  5.960  5.773  ...  1.660   \n",
       "4  SP.DYN.TFRT.IN    NaN    NaN    NaN    NaN    NaN    NaN  ...  1.270   \n",
       "\n",
       "    2011   2012   2013   2014   2015   2016   2017  2018  Unnamed: 63  \n",
       "0  1.779  1.795  1.813  1.834  1.854  1.872  1.886   NaN          NaN  \n",
       "1  5.770  5.562  5.359  5.163  4.976  4.800  4.633   NaN          NaN  \n",
       "2  6.120  6.039  5.953  5.864  5.774  5.686  5.600   NaN          NaN  \n",
       "3  1.673  1.684  1.690  1.688  1.677  1.659  1.638   NaN          NaN  \n",
       "4    NaN    NaN    NaN    NaN    NaN    NaN    NaN   NaN          NaN  \n",
       "\n",
       "[5 rows x 64 columns]"
      ]
     },
     "execution_count": 3,
     "metadata": {},
     "output_type": "execute_result"
    }
   ],
   "source": [
    "fertility_path = 'data-unzipped-worldbank/SP.DYN.TFRT.IN/API_SP.DYN.TFRT.IN_DS2_en_csv_v2_248489.csv'\n",
    "fertility_df = pd.read_csv(fertility_path,\n",
    "                           header=0,\n",
    "                           skiprows=4)\n",
    "fertility_df.head()"
   ]
  },
  {
   "cell_type": "code",
   "execution_count": 4,
   "metadata": {},
   "outputs": [
    {
     "data": {
      "text/html": [
       "<div>\n",
       "<style scoped>\n",
       "    .dataframe tbody tr th:only-of-type {\n",
       "        vertical-align: middle;\n",
       "    }\n",
       "\n",
       "    .dataframe tbody tr th {\n",
       "        vertical-align: top;\n",
       "    }\n",
       "\n",
       "    .dataframe thead th {\n",
       "        text-align: right;\n",
       "    }\n",
       "</style>\n",
       "<table border=\"1\" class=\"dataframe\">\n",
       "  <thead>\n",
       "    <tr style=\"text-align: right;\">\n",
       "      <th></th>\n",
       "      <th>Country Code</th>\n",
       "      <th>Region</th>\n",
       "      <th>IncomeGroup</th>\n",
       "      <th>SpecialNotes</th>\n",
       "      <th>TableName</th>\n",
       "      <th>Unnamed: 5</th>\n",
       "    </tr>\n",
       "  </thead>\n",
       "  <tbody>\n",
       "    <tr>\n",
       "      <td>0</td>\n",
       "      <td>ABW</td>\n",
       "      <td>Latin America &amp; Caribbean</td>\n",
       "      <td>High income</td>\n",
       "      <td>NaN</td>\n",
       "      <td>Aruba</td>\n",
       "      <td>NaN</td>\n",
       "    </tr>\n",
       "    <tr>\n",
       "      <td>1</td>\n",
       "      <td>AFG</td>\n",
       "      <td>South Asia</td>\n",
       "      <td>Low income</td>\n",
       "      <td>NaN</td>\n",
       "      <td>Afghanistan</td>\n",
       "      <td>NaN</td>\n",
       "    </tr>\n",
       "    <tr>\n",
       "      <td>2</td>\n",
       "      <td>AGO</td>\n",
       "      <td>Sub-Saharan Africa</td>\n",
       "      <td>Lower middle income</td>\n",
       "      <td>NaN</td>\n",
       "      <td>Angola</td>\n",
       "      <td>NaN</td>\n",
       "    </tr>\n",
       "    <tr>\n",
       "      <td>3</td>\n",
       "      <td>ALB</td>\n",
       "      <td>Europe &amp; Central Asia</td>\n",
       "      <td>Upper middle income</td>\n",
       "      <td>NaN</td>\n",
       "      <td>Albania</td>\n",
       "      <td>NaN</td>\n",
       "    </tr>\n",
       "    <tr>\n",
       "      <td>4</td>\n",
       "      <td>AND</td>\n",
       "      <td>Europe &amp; Central Asia</td>\n",
       "      <td>High income</td>\n",
       "      <td>NaN</td>\n",
       "      <td>Andorra</td>\n",
       "      <td>NaN</td>\n",
       "    </tr>\n",
       "  </tbody>\n",
       "</table>\n",
       "</div>"
      ],
      "text/plain": [
       "  Country Code                     Region          IncomeGroup SpecialNotes  \\\n",
       "0          ABW  Latin America & Caribbean          High income          NaN   \n",
       "1          AFG                 South Asia           Low income          NaN   \n",
       "2          AGO         Sub-Saharan Africa  Lower middle income          NaN   \n",
       "3          ALB      Europe & Central Asia  Upper middle income          NaN   \n",
       "4          AND      Europe & Central Asia          High income          NaN   \n",
       "\n",
       "     TableName  Unnamed: 5  \n",
       "0        Aruba         NaN  \n",
       "1  Afghanistan         NaN  \n",
       "2       Angola         NaN  \n",
       "3      Albania         NaN  \n",
       "4      Andorra         NaN  "
      ]
     },
     "execution_count": 4,
     "metadata": {},
     "output_type": "execute_result"
    }
   ],
   "source": [
    "fertility_meta_path = 'data-unzipped-worldbank/SP.DYN.TFRT.IN/Metadata_Country_API_SP.DYN.TFRT.IN_DS2_en_csv_v2_248489.csv'\n",
    "fertility_meta_df = pd.read_csv(fertility_meta_path,\n",
    "                                header=0)\n",
    "fertility_meta_df.head()"
   ]
  },
  {
   "cell_type": "code",
   "execution_count": 5,
   "metadata": {},
   "outputs": [],
   "source": [
    "fertility_df = fertility_df.merge(right=fertility_meta_df[['Country Code', 'Region', 'IncomeGroup']],\n",
    "                                  how='inner',\n",
    "                                  on='Country Code')"
   ]
  },
  {
   "cell_type": "code",
   "execution_count": 6,
   "metadata": {},
   "outputs": [],
   "source": [
    "fertility_df = fertility_df[['Country Name', 'Country Code', 'Region', 'IncomeGroup', '2001', \n",
    "                             '2002', '2003', '2004', '2005', '2006', '2007', '2008', '2009',\n",
    "                             '2010', '2011', '2012', '2013', '2014', '2015']]"
   ]
  },
  {
   "cell_type": "code",
   "execution_count": 8,
   "metadata": {},
   "outputs": [],
   "source": [
    "sampled_years = ['2001', '2002', '2003', '2004', '2005', '2006', '2007', '2008',\n",
    "                 '2009', '2010', '2011', '2012', '2013', '2014', '2015']\n",
    "fertility_df['15yr_mean'] = fertility_df[sampled_years].mean(axis=1)\n",
    "fertility_df['15yr_mean'] = fertility_df['15yr_mean'].apply(lambda x: round(x,3))"
   ]
  },
  {
   "cell_type": "code",
   "execution_count": 9,
   "metadata": {},
   "outputs": [],
   "source": [
    "fertility_df.dropna(how='any', inplace=True)\n",
    "fertility_df.reset_index(inplace=True, drop=True)"
   ]
  },
  {
   "cell_type": "code",
   "execution_count": 10,
   "metadata": {},
   "outputs": [],
   "source": [
    "fertility_df.rename(columns={'Country Name': 'country_name',\n",
    "                               'Country Code': 'country_code',\n",
    "                               'Region': 'region',\n",
    "                               'IncomeGroup': 'income_group'},\n",
    "                      inplace=True)"
   ]
  },
  {
   "cell_type": "code",
   "execution_count": 11,
   "metadata": {},
   "outputs": [],
   "source": [
    "eurasia = fertility_df.loc[fertility_df.region == 'Europe & Central Asia'].copy()\n",
    "east_asia = fertility_df.loc[fertility_df.region == 'East Asia & Pacific'].copy()\n",
    "americas = fertility_df.loc[(fertility_df.region == 'Latin America & Caribbean') | (\n",
    "                             fertility_df.region == 'North America')].copy()\n",
    "\n",
    "eurasia.reset_index(inplace=True, drop=True)\n",
    "east_asia.reset_index(inplace=True, drop=True)\n",
    "americas.reset_index(inplace=True, drop=True)"
   ]
  },
  {
   "cell_type": "code",
   "execution_count": 41,
   "metadata": {},
   "outputs": [
    {
     "data": {
      "image/png": "[encoded data removed]",
      "text/plain": [
       "<Figure size 576x1080 with 3 Axes>"
      ]
     },
     "metadata": {
      "needs_background": "light"
     },
     "output_type": "display_data"
    }
   ],
   "source": [
    "fig, axes = plt.subplots(ncols=1, nrows=3, figsize=(8, 15))\n",
    "sns.distplot(eurasia['15yr_mean'], ax=axes[0])\n",
    "sns.distplot(east_asia['15yr_mean'], ax=axes[1])\n",
    "sns.distplot(americas['15yr_mean'], ax=axes[2])\n",
    "axes[0].set_title('Europe & Central Asia')\n",
    "axes[1].set_title('East Asia & Pacific')\n",
    "axes[2].set_title('Americas')\n",
    "plt.subplots_adjust(hspace=0.3);"
   ]
  },
  {
   "cell_type": "code",
   "execution_count": 13,
   "metadata": {},
   "outputs": [],
   "source": [
    "from scipy.stats import ttest_ind\n",
    "from scipy.stats import f_oneway"
   ]
  },
  {
   "cell_type": "code",
   "execution_count": 19,
   "metadata": {},
   "outputs": [
    {
     "name": "stdout",
     "output_type": "stream",
     "text": [
      "-4.208796283243075\n",
      "0.0001618156254343877\n"
     ]
    }
   ],
   "source": [
    "# Eurasia and East Asia\n",
    "eur_asia_stat, eur_asia_p = ttest_ind(eurasia['15yr_mean'],\n",
    "                                      east_asia['15yr_mean'],\n",
    "                                      equal_var=False)\n",
    "print(eur_asia_stat)\n",
    "print(eur_asia_p)"
   ]
  },
  {
   "cell_type": "code",
   "execution_count": 20,
   "metadata": {},
   "outputs": [
    {
     "name": "stdout",
     "output_type": "stream",
     "text": [
      "-5.183451295568934\n",
      "1.929271388662641e-06\n"
     ]
    }
   ],
   "source": [
    "# Eurasia and Americas\n",
    "eur_amer_stat, eur_amer_p = ttest_ind(eurasia['15yr_mean'],\n",
    "                                      americas['15yr_mean'],\n",
    "                                      equal_var=False)\n",
    "print(eur_amer_stat)\n",
    "print(eur_amer_p)"
   ]
  },
  {
   "cell_type": "code",
   "execution_count": 21,
   "metadata": {},
   "outputs": [
    {
     "name": "stdout",
     "output_type": "stream",
     "text": [
      "-1.451791162058042\n",
      "0.15405563918457393\n"
     ]
    }
   ],
   "source": [
    "# Americas and East Asia\n",
    "amer_asia_stat, amer_asia_p = ttest_ind(americas['15yr_mean'],\n",
    "                                        east_asia['15yr_mean'],\n",
    "                                        equal_var=False)\n",
    "print(amer_asia_stat)\n",
    "print(amer_asia_p)"
   ]
  },
  {
   "cell_type": "code",
   "execution_count": 22,
   "metadata": {},
   "outputs": [
    {
     "name": "stdout",
     "output_type": "stream",
     "text": [
      "16.785907176857616\n",
      "3.787238974208818e-07\n"
     ]
    }
   ],
   "source": [
    "# ANOVA of all 3\n",
    "f_stat, f_p = f_oneway(eurasia['15yr_mean'],east_asia['15yr_mean'],americas['15yr_mean'])\n",
    "print(f_stat)\n",
    "print(f_p)"
   ]
  }
 ],
 "metadata": {
  "kernelspec": {
   "display_name": "Python 3",
   "language": "python",
   "name": "python3"
  },
  "language_info": {
   "codemirror_mode": {
    "name": "ipython",
    "version": 3
   },
   "file_extension": ".py",
   "mimetype": "text/x-python",
   "name": "python",
   "nbconvert_exporter": "python",
   "pygments_lexer": "ipython3",
   "version": "3.6.9"
  },
  "toc": {
   "base_numbering": 1,
   "nav_menu": {},
   "number_sections": true,
   "sideBar": true,
   "skip_h1_title": false,
   "title_cell": "Table of Contents",
   "title_sidebar": "Contents",
   "toc_cell": false,
   "toc_position": {},
   "toc_section_display": true,
   "toc_window_display": false
  }
 },
 "nbformat": 4,
 "nbformat_minor": 2
}
