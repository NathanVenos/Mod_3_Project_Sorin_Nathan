{
 "cells": [
  {
   "cell_type": "code",
   "execution_count": null,
   "metadata": {},
   "outputs": [],
   "source": [
    "!pip install --upgrade pip requests beautifulsoup4 lxml"
   ]
  },
  {
   "cell_type": "code",
   "execution_count": null,
   "metadata": {},
   "outputs": [],
   "source": [
    "import requests\n",
    "\n",
    "# a listing of all world bank indicators is at this url\n",
    "response = requests.get(\"https://data.worldbank.org/indicator?tab=all\")\n",
    "response.status_code"
   ]
  },
  {
   "cell_type": "code",
   "execution_count": null,
   "metadata": {},
   "outputs": [],
   "source": [
    "from bs4 import BeautifulSoup\n",
    "\n",
    "soup = BeautifulSoup(response.text, \"lxml\")\n",
    "\n",
    "print(soup.prettify())"
   ]
  },
  {
   "cell_type": "code",
   "execution_count": null,
   "metadata": {
    "scrolled": true
   },
   "outputs": [],
   "source": [
    "indicators_list = []\n",
    "\n",
    "# get a list of all indicators\n",
    "# they are found in (div class=overviewArea)\n",
    "# topics are found in (section class=nav-item)\n",
    "# indicators are found in (ul li)\n",
    "\n",
    "for div in soup.select(\"div.overviewArea section.nav-item\"):\n",
    "    topic = div.select_one(\"h3\")[\"id\"]\n",
    "#     print(topic)\n",
    "    for li in div.select(\"ul li\"):\n",
    "        indicator = li.text\n",
    "#         print(F\"   indicator name = {indicator}\")\n",
    "        link = li.select_one(\"a\")[\"href\"].split(\"?\")[0]\n",
    "        link = \"http://api.worldbank.org/v2/en\" + link + \"?downloadformat=csv\"\n",
    "#         print(F\"   indicator link = {link}\")\n",
    "        indicators_list.append((topic, indicator, link))\n",
    "\n",
    "# indicators_list"
   ]
  },
  {
   "cell_type": "code",
   "execution_count": null,
   "metadata": {},
   "outputs": [],
   "source": [
    "import pandas as pd\n",
    "\n",
    "df = pd.DataFrame(indicators_list, columns=[\"indicator-area\", \"indicator-text\", \"indicator-link\"])\n",
    "\n",
    "# extract the indicator code from the link\n",
    "df[\"indicator-code\"] = df[\"indicator-link\"].map(lambda row: row.split(\"/\")[-1])\n",
    "df[\"indicator-code\"] = df[\"indicator-code\"].map(lambda row: row.split(\"?\")[0])\n",
    "\n",
    "df"
   ]
  },
  {
   "cell_type": "code",
   "execution_count": null,
   "metadata": {
    "scrolled": true
   },
   "outputs": [],
   "source": [
    "import os.path\n",
    "import time\n",
    "\n",
    "# indicators will be downloaded in \"data-raw-worldbank\"\n",
    "# please make the directory\n",
    "cwd = os.getcwd()\n",
    "data_path = os.path.join(cwd, \"data-raw-worldbank\")\n",
    "\n",
    "for index, row in df.iterrows():\n",
    "    \n",
    "    # check and skip if file already exists\n",
    "    data_file = os.path.join(data_path, row[\"indicator-code\"]+\".zip\")\n",
    "    \n",
    "    if os.path.exists(data_file):\n",
    "        continue\n",
    "    \n",
    "    # print current step\n",
    "    print(index, row[\"indicator-link\"], row[\"indicator-code\"])\n",
    "\n",
    "    try:\n",
    "        response = requests.get(row[\"indicator-link\"], stream=True)\n",
    "        \n",
    "        # throw an error for bad status codes\n",
    "        response.raise_for_status()\n",
    "\n",
    "        with open(data_file, \"wb\") as handle:\n",
    "            for block in response.iter_content(1024):\n",
    "                handle.write(block)\n",
    "\n",
    "    except:\n",
    "        print(F\"  FAILED\")\n",
    "    \n",
    "    # keep them happy\n",
    "    time.sleep(1)"
   ]
  },
  {
   "cell_type": "code",
   "execution_count": null,
   "metadata": {
    "scrolled": false
   },
   "outputs": [],
   "source": [
    "import textwrap\n",
    "\n",
    "for index, row in df.iterrows():\n",
    "    if \"pollution\" in row[\"indicator-text\"]:\n",
    "        wrapper = textwrap.TextWrapper(initial_indent=\"     \",subsequent_indent=\"     \", width=70)\n",
    "        print(F'{index:04d} {row[\"indicator-area\"]}:')\n",
    "        print(F'{wrapper.fill(row[\"indicator-text\"])}')\n",
    "        print(F'{wrapper.fill(row[\"indicator-code\"])}')"
   ]
  }
 ],
 "metadata": {
  "kernelspec": {
   "display_name": "Python 3",
   "language": "python",
   "name": "python3"
  },
  "language_info": {
   "codemirror_mode": {
    "name": "ipython",
    "version": 3
   },
   "file_extension": ".py",
   "mimetype": "text/x-python",
   "name": "python",
   "nbconvert_exporter": "python",
   "pygments_lexer": "ipython3",
   "version": "3.6.9"
  },
  "toc": {
   "base_numbering": 1,
   "nav_menu": {},
   "number_sections": true,
   "sideBar": true,
   "skip_h1_title": false,
   "title_cell": "Table of Contents",
   "title_sidebar": "Contents",
   "toc_cell": false,
   "toc_position": {},
   "toc_section_display": true,
   "toc_window_display": false
  }
 },
 "nbformat": 4,
 "nbformat_minor": 2
}
